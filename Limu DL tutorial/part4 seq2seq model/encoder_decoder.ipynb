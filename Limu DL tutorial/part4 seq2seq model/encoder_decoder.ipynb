{
 "cells": [
  {
   "cell_type": "code",
   "execution_count": 1,
   "metadata": {},
   "outputs": [],
   "source": [
    "# 编码器\n",
    "from torch import nn\n",
    "\n",
    "class Encoder(nn.Module):\n",
    "    \"\"\"编码器-解码器结构的基本编码器接口\"\"\"\n",
    "    #  Encoder 类的构造函数，它接受任意数量的关键字参数\n",
    "    def __init__(self, **kwargs):\n",
    "        # 调用了父类 nn.Module 的构造函数，确保正确初始化\n",
    "        super(Encoder, self).__init__(**kwargs)\n",
    "    \n",
    "    def forward(self, X, *args):\n",
    "        # 抛出一个 NotImplementedError 异常，表示该方法需要在子类中进行实现。\n",
    "        raise NotImplementedError"
   ]
  },
  {
   "cell_type": "code",
   "execution_count": 2,
   "metadata": {},
   "outputs": [],
   "source": [
    "# 解码器\n",
    "class Decoder(nn.Module):\n",
    "    def __init__(self, **kwargs):\n",
    "        super(Decoder, self).__init__(**kwargs)\n",
    "            \n",
    "    def init_state(self, enc_outputs, *args): # 拿到编码器的输出enc_outputs\n",
    "        raise NotImplementedError\n",
    "        \n",
    "    def forward(self, X, state): # 拿到额外的输出X, state是用来不断更新的\n",
    "        raise NotImplementedError"
   ]
  },
  {
   "cell_type": "code",
   "execution_count": 3,
   "metadata": {},
   "outputs": [],
   "source": [
    "# 合并编码器和解码器\n",
    "class EncoderDecoder(nn.Module):\n",
    "    \"\"\"编码器-解码器结构的基类\"\"\"\n",
    "    def __init__(self, encoder, decoder, **kwargs):\n",
    "        super(EncoderDecoder, self).__init__(**kwargs)\n",
    "        # 将传入的编码器实例赋值给类的 encoder 属性\n",
    "        self.encoder = encoder\n",
    "        # 将传入的解码器实例赋值给类的 decoder 属性\n",
    "        self.decoder = decoder\n",
    "        \n",
    "    def forward(self, enc_X, dec_X, *args):\n",
    "        # 使用编码器对输入进行编码\n",
    "        enc_outputs = self.encoder(enc_X, *args)\n",
    "        # 使用编码器的输出初始化解码器的状态\n",
    "        dec_state = self.decoder.init_state(enc_outputs, *args)  \n",
    "        # 使用解码器进行解码\n",
    "        return self.decoder(dec_X, dec_state)"
   ]
  },
  {
   "cell_type": "code",
   "execution_count": null,
   "metadata": {},
   "outputs": [],
   "source": []
  }
 ],
 "metadata": {
  "kernelspec": {
   "display_name": "Python (pytorch)",
   "language": "python",
   "name": "pytorch"
  },
  "language_info": {
   "codemirror_mode": {
    "name": "ipython",
    "version": 3
   },
   "file_extension": ".py",
   "mimetype": "text/x-python",
   "name": "python",
   "nbconvert_exporter": "python",
   "pygments_lexer": "ipython3",
   "version": "3.10.10"
  }
 },
 "nbformat": 4,
 "nbformat_minor": 2
}
