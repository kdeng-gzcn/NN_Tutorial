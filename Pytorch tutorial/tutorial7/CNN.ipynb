{
 "cells": [
  {
   "cell_type": "markdown",
   "metadata": {},
   "source": [
    "# In Tutorial 5&6\n",
    "we try to build up our own dataset, and create our own network, and implete the entire training process.\n",
    "\n",
    "Now, we are trying to run the above progress on GPU"
   ]
  },
  {
   "cell_type": "code",
   "execution_count": 1,
   "metadata": {},
   "outputs": [],
   "source": [
    "import os\n",
    "import cv2\n",
    "import numpy as np\n",
    "from tqdm import tqdm\n",
    "\n",
    "import torch\n",
    "import torch.nn as nn\n",
    "import torch.nn.functional as F\n",
    "import torch.optim as optim"
   ]
  },
  {
   "cell_type": "code",
   "execution_count": 2,
   "metadata": {},
   "outputs": [],
   "source": [
    "# a trick\n",
    "REBUILD_DATA = False"
   ]
  },
  {
   "cell_type": "code",
   "execution_count": 3,
   "metadata": {},
   "outputs": [],
   "source": [
    "# data pre-processing is super important\n",
    "\n",
    "class DogsVSCats():\n",
    "    IMG_SIZE = 50 # want to normailize all the images, make it 50 * 50 pixels\n",
    "\n",
    "    # note that data augment is really common in CV\n",
    "\n",
    "    CATS = '../../../dataset/kagglecatsanddogs_5340/PetImages/Cat'\n",
    "    DOGS = '../../../dataset/kagglecatsanddogs_5340/PetImages/Dog'\n",
    "\n",
    "    LABELS = {CATS: 0, DOGS: 1}\n",
    "\n",
    "    training_data = []\n",
    "\n",
    "    # keep balanced data is super important \n",
    "    catcount = 0\n",
    "    dogcount = 0\n",
    "\n",
    "    def make_training_data(self):\n",
    "        for label in self.LABELS: # iterating the keys\n",
    "            print(label)\n",
    "            for f in tqdm(os.listdir(label)):\n",
    "                try:\n",
    "                    path = os.path.join(label, f)\n",
    "                    img = cv2.imread(path, cv2.IMREAD_GRAYSCALE) # color doesnt matter in clasifying the cat and dog\n",
    "                    # note that we want to make our data and nn as small as possible\n",
    "                    img = cv2.resize(img, [self.IMG_SIZE, self.IMG_SIZE]) # reshape in 50 * 50\n",
    "                    self.training_data.append([np.array(img), np.eye(2)[self.LABELS[label]]])\n",
    "\n",
    "                    # count our data\n",
    "                    if label == self.CATS:\n",
    "                        self.catcount += 1\n",
    "                    if label == self.DOGS:\n",
    "                        self.dogcount += 1\n",
    "\n",
    "                except Exception as e:\n",
    "                    # print(str(e))\n",
    "                    pass\n",
    "\n",
    "\n",
    "        np.random.shuffle(self.training_data) # shuffle is inplace\n",
    "        np.save('training_data.npy', self.training_data)\n",
    "\n",
    "        print('cats:', self.catcount)\n",
    "        print('dogs:', self.dogcount)"
   ]
  },
  {
   "cell_type": "code",
   "execution_count": 4,
   "metadata": {},
   "outputs": [
    {
     "data": {
      "text/plain": [
       "array([0., 0., 1., 0., 0.])"
      ]
     },
     "execution_count": 4,
     "metadata": {},
     "output_type": "execute_result"
    }
   ],
   "source": [
    "# COOL!!\n",
    "# one-hot code\n",
    "np.eye(5)[2] # 5 classes, one-hot code for class 3(2+1)"
   ]
  },
  {
   "cell_type": "code",
   "execution_count": 5,
   "metadata": {},
   "outputs": [],
   "source": [
    "if REBUILD_DATA: # never run this again!\n",
    "    dogsvscats = DogsVSCats()\n",
    "    dogsvscats.make_training_data()"
   ]
  },
  {
   "cell_type": "code",
   "execution_count": 6,
   "metadata": {},
   "outputs": [],
   "source": [
    "training_data = np.load('training_data.npy', allow_pickle=True) # ???"
   ]
  },
  {
   "cell_type": "code",
   "execution_count": 7,
   "metadata": {},
   "outputs": [
    {
     "name": "stdout",
     "output_type": "stream",
     "text": [
      "24946\n"
     ]
    }
   ],
   "source": [
    "print(len(training_data))"
   ]
  },
  {
   "cell_type": "code",
   "execution_count": 8,
   "metadata": {},
   "outputs": [
    {
     "name": "stdout",
     "output_type": "stream",
     "text": [
      "[array([[125,  54, 169, ..., 133, 141, 148],\n",
      "        [124,  58, 170, ..., 134, 141, 141],\n",
      "        [128,  61, 172, ..., 133, 154, 143],\n",
      "        ...,\n",
      "        [159,  76,  40, ..., 119, 120, 135],\n",
      "        [156,  78,  30, ..., 112, 119, 121],\n",
      "        [144,  80,  26, ..., 106, 113, 125]], dtype=uint8) array([0., 1.])]\n"
     ]
    }
   ],
   "source": [
    "print(training_data[0])\n",
    "# label is [0, 1], hence its a dog"
   ]
  },
  {
   "cell_type": "code",
   "execution_count": 9,
   "metadata": {},
   "outputs": [
    {
     "data": {
      "image/png": "[encoded data removed]",
      "text/plain": [
       "<Figure size 640x480 with 1 Axes>"
      ]
     },
     "metadata": {},
     "output_type": "display_data"
    }
   ],
   "source": [
    "# show the picture\n",
    "from matplotlib import pyplot as plt\n",
    "\n",
    "index_demo = 4\n",
    "\n",
    "plt.imshow(training_data[index_demo][0])\n",
    "plt.show()"
   ]
  },
  {
   "cell_type": "code",
   "execution_count": 10,
   "metadata": {},
   "outputs": [
    {
     "data": {
      "image/png": "[encoded data removed]",
      "text/plain": [
       "<Figure size 640x480 with 1 Axes>"
      ]
     },
     "metadata": {},
     "output_type": "display_data"
    }
   ],
   "source": [
    "plt.imshow(training_data[index_demo][0], cmap='gray') # matplotlib is not only for image\n",
    "plt.show()"
   ]
  },
  {
   "cell_type": "code",
   "execution_count": 11,
   "metadata": {},
   "outputs": [
    {
     "data": {
      "text/plain": [
       "array([1., 0.])"
      ]
     },
     "execution_count": 11,
     "metadata": {},
     "output_type": "execute_result"
    }
   ],
   "source": [
    "training_data[index_demo][1]"
   ]
  },
  {
   "cell_type": "markdown",
   "metadata": {},
   "source": [
    "# Train Session\n",
    "In tutorial 5, we built out dataset for training. Then, in this tutorial 6, we are trying to build our network and fit on our data."
   ]
  },
  {
   "cell_type": "code",
   "execution_count": 12,
   "metadata": {},
   "outputs": [],
   "source": [
    "class Net(nn.Module):\n",
    "    def __init__(self):\n",
    "        super().__init__()\n",
    "        \n",
    "        # define conv layer\n",
    "        self.conv1 = nn.Conv2d(\n",
    "            in_channels=1, # our image is 1 * 50 *50\n",
    "            out_channels=32,\n",
    "            kernel_size=5\n",
    "        )\n",
    "        self.conv2 = nn.Conv2d(32, 64, 5)\n",
    "        self.conv3 = nn.Conv2d(64, 128, 5)\n",
    "\n",
    "        # define pool layer\n",
    "        self.pool1 = nn.MaxPool2d(\n",
    "            kernel_size=(2, 2)\n",
    "        )\n",
    "        self.pool2 = nn.MaxPool2d((2, 2))\n",
    "        self.pool3 = nn.MaxPool2d(2)\n",
    "\n",
    "        # define fc layer, but need to know the shape\n",
    "        value = 512\n",
    "\n",
    "        self.fc1 = nn.Linear(\n",
    "            in_features=value, \n",
    "            out_features=512\n",
    "        )\n",
    "        \n",
    "        self.fc2 = nn.Linear(512, 2)\n",
    "\n",
    "    def forward(self, x):\n",
    "\n",
    "        # a standard CNN structure is input -> (conv layer -> active func -> pool layer) -> next structure \n",
    "        x = self.pool1(F.relu(self.conv1(x)))\n",
    "        x = self.pool2(F.relu(self.conv2(x)))\n",
    "        x = self.pool3(F.relu(self.conv3(x)))\n",
    "\n",
    "        # for first time, make sure the dim of x\n",
    "        x = x.flatten(start_dim=1)\n",
    "        # print(x.shape)\n",
    "\n",
    "        # after feature extraction, use fc to do classification\n",
    "        # a standard FC structure is input -> (fc layer -> active func) -> next structure\n",
    "        x = F.relu(self.fc1(x))\n",
    "        x = F.softmax(self.fc2(x), dim=1) # make sure each row is a distribution (dim=1)\n",
    "\n",
    "        return x"
   ]
  },
  {
   "cell_type": "markdown",
   "metadata": {},
   "source": [
    "really make sure that, active func is not required but probably you should have one\n",
    "\n",
    "for instance, if we forget the `F.softmax()` for final x, and we run and fit the model. Probably, the model also works on THIS problem. Maybe it helps on much more complicated task."
   ]
  },
  {
   "cell_type": "code",
   "execution_count": 13,
   "metadata": {},
   "outputs": [],
   "source": [
    "net = Net()"
   ]
  },
  {
   "cell_type": "code",
   "execution_count": 14,
   "metadata": {},
   "outputs": [
    {
     "data": {
      "text/plain": [
       "tensor([[0.5048, 0.4952]], grad_fn=<SoftmaxBackward0>)"
      ]
     },
     "execution_count": 14,
     "metadata": {},
     "output_type": "execute_result"
    }
   ],
   "source": [
    "sample_view_shape = torch.randn(1, 1, 50, 50)\n",
    "net.forward(sample_view_shape)\n",
    "# here 512 is our dim after flatten"
   ]
  },
  {
   "cell_type": "markdown",
   "metadata": {},
   "source": [
    "nn is actually a lot of trials and errors, nobody knows what they are doing.\n",
    "\n",
    "anybody who claims to be like expert at neural network is a dirty lier!"
   ]
  },
  {
   "cell_type": "code",
   "execution_count": 15,
   "metadata": {},
   "outputs": [],
   "source": [
    "optimizer = optim.Adam(net.parameters(), lr=0.001)\n",
    "loss_function = nn.MSELoss()"
   ]
  },
  {
   "cell_type": "code",
   "execution_count": 16,
   "metadata": {},
   "outputs": [
    {
     "name": "stdout",
     "output_type": "stream",
     "text": [
      "(2,)\n"
     ]
    }
   ],
   "source": [
    "# make sure what is inside our data\n",
    "for i in training_data:\n",
    "    print(i.shape)\n",
    "    break"
   ]
  },
  {
   "cell_type": "code",
   "execution_count": 17,
   "metadata": {},
   "outputs": [
    {
     "name": "stderr",
     "output_type": "stream",
     "text": [
      "C:\\Users\\pc\\AppData\\Local\\Temp\\ipykernel_2380\\1661397904.py:5: UserWarning: Creating a tensor from a list of numpy.ndarrays is extremely slow. Please consider converting the list to a single numpy.ndarray with numpy.array() before converting to a tensor. (Triggered internally at C:\\cb\\pytorch_1000000000000\\work\\torch\\csrc\\utils\\tensor_new.cpp:233.)\n",
      "  y = torch.Tensor([i[1] for i in training_data])\n"
     ]
    }
   ],
   "source": [
    "# reshape our data in nn\n",
    "X = torch.Tensor(np.array([i[0] for i in training_data])).view(-1, 50, 50)\n",
    "X = X / 255 # each pixel is in range [0, 255], this line is to scale the data\n",
    "\n",
    "y = torch.Tensor([i[1] for i in training_data])"
   ]
  },
  {
   "cell_type": "code",
   "execution_count": 18,
   "metadata": {},
   "outputs": [
    {
     "data": {
      "text/plain": [
       "2494"
      ]
     },
     "execution_count": 18,
     "metadata": {},
     "output_type": "execute_result"
    }
   ],
   "source": [
    "valid_perc = 0.1\n",
    "valid_size = int(len(X) * valid_perc)\n",
    "valid_size"
   ]
  },
  {
   "cell_type": "code",
   "execution_count": 19,
   "metadata": {},
   "outputs": [],
   "source": [
    "train_X = X[:-valid_size]\n",
    "train_y = y[:-valid_size]\n",
    "\n",
    "test_X = X[-valid_size:]\n",
    "test_y = y[-valid_size:]"
   ]
  },
  {
   "cell_type": "code",
   "execution_count": 20,
   "metadata": {},
   "outputs": [
    {
     "data": {
      "text/plain": [
       "(22452, 2494)"
      ]
     },
     "execution_count": 20,
     "metadata": {},
     "output_type": "execute_result"
    }
   ],
   "source": [
    "len(train_X), len(test_X)"
   ]
  },
  {
   "cell_type": "code",
   "execution_count": 21,
   "metadata": {},
   "outputs": [
    {
     "name": "stderr",
     "output_type": "stream",
     "text": [
      "100%|██████████| 176/176 [00:33<00:00,  5.18it/s]"
     ]
    },
    {
     "name": "stdout",
     "output_type": "stream",
     "text": [
      "final loss:  0.2024189829826355\n"
     ]
    },
    {
     "name": "stderr",
     "output_type": "stream",
     "text": [
      "\n"
     ]
    }
   ],
   "source": [
    "batch_size = 128\n",
    "epochs = 1\n",
    "\n",
    "# not using the API from torch.utils.data.DataLoader\n",
    "\n",
    "for epoch in range(epochs):\n",
    "    for i in tqdm(range(0, len(train_X), batch_size)):\n",
    "        # print(i, i + batch_size)\n",
    "        batch_X = train_X[i:i + batch_size].view(-1, 1, 50, 50) # claim the channel number\n",
    "        batch_y = train_y[i:i + batch_size] # no need to reshape?\n",
    "\n",
    "        # make sure the optimizer or net\n",
    "        net.zero_grad()\n",
    "        outputs = net(batch_X)\n",
    "        loss = loss_function(outputs, batch_y)\n",
    "        loss.backward()\n",
    "        optimizer.step()\n",
    "\n",
    "print('final loss: ', loss.item())"
   ]
  },
  {
   "cell_type": "code",
   "execution_count": 22,
   "metadata": {},
   "outputs": [
    {
     "name": "stderr",
     "output_type": "stream",
     "text": [
      "100%|██████████| 2494/2494 [00:02<00:00, 1062.72it/s]"
     ]
    },
    {
     "name": "stdout",
     "output_type": "stream",
     "text": [
      "Accuracy:  0.647\n"
     ]
    },
    {
     "name": "stderr",
     "output_type": "stream",
     "text": [
      "\n"
     ]
    }
   ],
   "source": [
    "# model evaluation\n",
    "correct = 0\n",
    "total = 0\n",
    "\n",
    "with torch.no_grad():\n",
    "    for i in tqdm(range(len(test_X))): # batch = 1\n",
    "        y_ = torch.argmax(test_y[i])\n",
    "        prob_hat = net(test_X[i].view([-1, 1, 50, 50]))[0] # reshape it into dim1\n",
    "        y_hat = torch.argmax(prob_hat)\n",
    "\n",
    "        if y_hat == y_:\n",
    "            correct += 1\n",
    "        \n",
    "        total += 1\n",
    "    \n",
    "    print('Accuracy: ', round(correct / total, 3))\n",
    "\n",
    "        "
   ]
  },
  {
   "cell_type": "markdown",
   "metadata": {},
   "source": [
    "# Tutorial 7"
   ]
  },
  {
   "cell_type": "code",
   "execution_count": 23,
   "metadata": {},
   "outputs": [
    {
     "data": {
      "text/plain": [
       "True"
      ]
     },
     "execution_count": 23,
     "metadata": {},
     "output_type": "execute_result"
    }
   ],
   "source": [
    "torch.cuda.is_available()"
   ]
  },
  {
   "cell_type": "code",
   "execution_count": 24,
   "metadata": {},
   "outputs": [
    {
     "data": {
      "text/plain": [
       "device(type='cuda', index=0)"
      ]
     },
     "execution_count": 24,
     "metadata": {},
     "output_type": "execute_result"
    }
   ],
   "source": [
    "device = torch.device('cuda:0')\n",
    "device"
   ]
  },
  {
   "cell_type": "markdown",
   "metadata": {},
   "source": [
    "if you have multiple GPUs, Pytorch is easy to assign specific layer to specific GPU\n",
    "\n",
    "for example, the encoder-decoder network"
   ]
  },
  {
   "cell_type": "code",
   "execution_count": 25,
   "metadata": {},
   "outputs": [
    {
     "data": {
      "text/plain": [
       "1"
      ]
     },
     "execution_count": 25,
     "metadata": {},
     "output_type": "execute_result"
    }
   ],
   "source": [
    "torch.cuda.device_count()"
   ]
  },
  {
   "cell_type": "code",
   "execution_count": 26,
   "metadata": {},
   "outputs": [
    {
     "data": {
      "text/plain": [
       "Net(\n",
       "  (conv1): Conv2d(1, 32, kernel_size=(5, 5), stride=(1, 1))\n",
       "  (conv2): Conv2d(32, 64, kernel_size=(5, 5), stride=(1, 1))\n",
       "  (conv3): Conv2d(64, 128, kernel_size=(5, 5), stride=(1, 1))\n",
       "  (pool1): MaxPool2d(kernel_size=(2, 2), stride=(2, 2), padding=0, dilation=1, ceil_mode=False)\n",
       "  (pool2): MaxPool2d(kernel_size=(2, 2), stride=(2, 2), padding=0, dilation=1, ceil_mode=False)\n",
       "  (pool3): MaxPool2d(kernel_size=2, stride=2, padding=0, dilation=1, ceil_mode=False)\n",
       "  (fc1): Linear(in_features=512, out_features=512, bias=True)\n",
       "  (fc2): Linear(in_features=512, out_features=2, bias=True)\n",
       ")"
      ]
     },
     "execution_count": 26,
     "metadata": {},
     "output_type": "execute_result"
    }
   ],
   "source": [
    "net = Net()\n",
    "net.to(device)"
   ]
  },
  {
   "cell_type": "code",
   "execution_count": 27,
   "metadata": {},
   "outputs": [],
   "source": [
    "# try to make functions for training and testing process\n",
    "def train(net):\n",
    "    optimizer = optim.Adam(net.parameters(), lr=0.001) # optimizer is supervising the net.params on GPU\n",
    "    loss_function = nn.MSELoss()\n",
    "\n",
    "    batch_size = 128\n",
    "    epochs = 3\n",
    "\n",
    "    # not using the API from torch.utils.data.DataLoader\n",
    "\n",
    "    for epoch in range(epochs):\n",
    "        for i in tqdm(range(0, len(train_X), batch_size)):\n",
    "            # print(i, i + batch_size)\n",
    "            batch_X = train_X[i:i + batch_size].view(-1, 1, 50, 50).to(device) # claim the channel number\n",
    "            batch_y = train_y[i:i + batch_size].to(device) # no need to reshape?\n",
    "\n",
    "            # make sure the optimizer or net\n",
    "            net.zero_grad()\n",
    "            outputs = net(batch_X)\n",
    "            loss = loss_function(outputs, batch_y)\n",
    "            loss.backward()\n",
    "            optimizer.step()\n",
    "\n",
    "        print(f'Epoch {epoch + 1} loss: ', loss.item())\n",
    "\n",
    "\n",
    "def test(net):\n",
    "    correct = 0\n",
    "    total = 0\n",
    "\n",
    "    with torch.no_grad():\n",
    "        for i in tqdm(range(len(test_X))): # batch = 1\n",
    "            y_ = torch.argmax(test_y[i]).to(device)\n",
    "            prob_hat = net(test_X[i].view([-1, 1, 50, 50]).to(device))[0] # reshape it into dim1\n",
    "            y_hat = torch.argmax(prob_hat)\n",
    "\n",
    "            if y_hat == y_:\n",
    "                correct += 1\n",
    "            \n",
    "            total += 1\n",
    "        \n",
    "        print('Accuracy: ', round(correct / total, 3))"
   ]
  },
  {
   "cell_type": "code",
   "execution_count": 28,
   "metadata": {},
   "outputs": [
    {
     "name": "stderr",
     "output_type": "stream",
     "text": [
      "100%|██████████| 176/176 [00:05<00:00, 31.61it/s] \n"
     ]
    },
    {
     "name": "stdout",
     "output_type": "stream",
     "text": [
      "Epoch 1 loss:  0.19994524121284485\n"
     ]
    },
    {
     "name": "stderr",
     "output_type": "stream",
     "text": [
      "100%|██████████| 176/176 [00:01<00:00, 113.88it/s]\n"
     ]
    },
    {
     "name": "stdout",
     "output_type": "stream",
     "text": [
      "Epoch 2 loss:  0.1589963436126709\n"
     ]
    },
    {
     "name": "stderr",
     "output_type": "stream",
     "text": [
      "100%|██████████| 176/176 [00:01<00:00, 114.24it/s]"
     ]
    },
    {
     "name": "stdout",
     "output_type": "stream",
     "text": [
      "Epoch 3 loss:  0.11201731115579605\n"
     ]
    },
    {
     "name": "stderr",
     "output_type": "stream",
     "text": [
      "\n"
     ]
    }
   ],
   "source": [
    "train(net)"
   ]
  },
  {
   "cell_type": "code",
   "execution_count": 29,
   "metadata": {},
   "outputs": [
    {
     "name": "stderr",
     "output_type": "stream",
     "text": [
      "100%|██████████| 2494/2494 [00:02<00:00, 1039.95it/s]"
     ]
    },
    {
     "name": "stdout",
     "output_type": "stream",
     "text": [
      "Accuracy:  0.716\n"
     ]
    },
    {
     "name": "stderr",
     "output_type": "stream",
     "text": [
      "\n"
     ]
    }
   ],
   "source": [
    "test(net)"
   ]
  },
  {
   "cell_type": "code",
   "execution_count": null,
   "metadata": {},
   "outputs": [],
   "source": []
  }
 ],
 "metadata": {
  "kernelspec": {
   "display_name": "Python (pytorch)",
   "language": "python",
   "name": "pytorch"
  },
  "language_info": {
   "codemirror_mode": {
    "name": "ipython",
    "version": 3
   },
   "file_extension": ".py",
   "mimetype": "text/x-python",
   "name": "python",
   "nbconvert_exporter": "python",
   "pygments_lexer": "ipython3",
   "version": "3.10.10"
  }
 },
 "nbformat": 4,
 "nbformat_minor": 2
}
