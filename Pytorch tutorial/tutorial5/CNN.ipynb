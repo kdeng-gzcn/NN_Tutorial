{
 "cells": [
  {
   "cell_type": "code",
   "execution_count": 1,
   "metadata": {},
   "outputs": [
    {
     "name": "stdout",
     "output_type": "stream",
     "text": [
      "Hello World!\n"
     ]
    }
   ],
   "source": [
    "print(\"Hello World!\")"
   ]
  },
  {
   "cell_type": "markdown",
   "metadata": {},
   "source": [
    "# CNN\n",
    "can be viewed as a layer which mix the convolution layer and fc layer (CNN is different from convolutional layer)\n",
    "\n",
    "dense layer == linear layer == FC layer"
   ]
  },
  {
   "cell_type": "markdown",
   "metadata": {},
   "source": [
    "# Some Facts\n",
    "initially, we are using the CNN for classifying the images\n",
    "\n",
    "recently, CNN are used in building RNN"
   ]
  },
  {
   "cell_type": "markdown",
   "metadata": {},
   "source": [
    "# Whay does CNN actually do?\n",
    "the first after kernel, it captures the edges, curves and corners\n",
    "\n",
    "then, we use pooling (max)pooling"
   ]
  },
  {
   "cell_type": "markdown",
   "metadata": {},
   "source": [
    "its actually simplify the image and looks for the feature(numbers) of the image\n",
    "\n",
    "like the first convolutional layer is trying to capture the edges\n",
    "\n",
    "then the second convolutional layer is combining the edges and then get circles and curves\n",
    "\n",
    "then the third convolutional layer is combining the circles and then get patterns"
   ]
  },
  {
   "cell_type": "code",
   "execution_count": 1,
   "metadata": {},
   "outputs": [],
   "source": [
    "import os\n",
    "import cv2\n",
    "import numpy as np\n",
    "from tqdm import tqdm"
   ]
  },
  {
   "cell_type": "code",
   "execution_count": 2,
   "metadata": {},
   "outputs": [],
   "source": [
    "# a trick\n",
    "REBUILD_DATA = True"
   ]
  },
  {
   "cell_type": "code",
   "execution_count": 15,
   "metadata": {},
   "outputs": [],
   "source": [
    "# data pre-processing is super important\n",
    "\n",
    "class DogsVSCats():\n",
    "    IMG_SIZE = 50 # want to normailize all the images, make it 50 * 50 pixels\n",
    "\n",
    "    # note that data augment is really common in CV\n",
    "\n",
    "    CATS = '../../../dataset/kagglecatsanddogs_5340/PetImages/Cat'\n",
    "    DOGS = '../../../dataset/kagglecatsanddogs_5340/PetImages/Dog'\n",
    "\n",
    "    LABELS = {CATS: 0, DOGS: 1}\n",
    "\n",
    "    training_data = []\n",
    "\n",
    "    # keep balanced data is super important \n",
    "    catcount = 0\n",
    "    dogcount = 0\n",
    "\n",
    "    def make_training_data(self):\n",
    "        for label in self.LABELS: # iterating the keys\n",
    "            print(label)\n",
    "            for f in tqdm(os.listdir(label)):\n",
    "                try:\n",
    "                    path = os.path.join(label, f)\n",
    "                    img = cv2.imread(path, cv2.IMREAD_GRAYSCALE) # color doesnt matter in clasifying the cat and dog\n",
    "                    # note that we want to make our data and nn as small as possible\n",
    "                    img = cv2.resize(img, [self.IMG_SIZE, self.IMG_SIZE]) # reshape in 50 * 50\n",
    "                    self.training_data.append([np.array(img), np.eye(2)[self.LABELS[label]]])\n",
    "\n",
    "                    # count our data\n",
    "                    if label == self.CATS:\n",
    "                        self.catcount += 1\n",
    "                    if label == self.DOGS:\n",
    "                        self.dogcount += 1\n",
    "\n",
    "                except Exception as e:\n",
    "                    # print(str(e))\n",
    "                    pass\n",
    "\n",
    "\n",
    "        np.random.shuffle(self.training_data) # shuffle is inplace\n",
    "        np.save('training_data.npy', self.training_data)\n",
    "\n",
    "        print('cats:', self.catcount)\n",
    "        print('dogs:', self.dogcount)"
   ]
  },
  {
   "cell_type": "code",
   "execution_count": 3,
   "metadata": {},
   "outputs": [
    {
     "data": {
      "text/plain": [
       "array([0., 0., 1., 0., 0.])"
      ]
     },
     "execution_count": 3,
     "metadata": {},
     "output_type": "execute_result"
    }
   ],
   "source": [
    "# COOL!!\n",
    "# one-hot code\n",
    "np.eye(5)[2] # 5 classes, one-hot code for class 3(2+1)"
   ]
  },
  {
   "cell_type": "code",
   "execution_count": 16,
   "metadata": {},
   "outputs": [
    {
     "name": "stdout",
     "output_type": "stream",
     "text": [
      "../../../dataset/kagglecatsanddogs_5340/PetImages/Cat\n"
     ]
    },
    {
     "name": "stderr",
     "output_type": "stream",
     "text": [
      "100%|██████████| 12501/12501 [00:09<00:00, 1337.64it/s]\n"
     ]
    },
    {
     "name": "stdout",
     "output_type": "stream",
     "text": [
      "../../../dataset/kagglecatsanddogs_5340/PetImages/Dog\n"
     ]
    },
    {
     "name": "stderr",
     "output_type": "stream",
     "text": [
      "100%|██████████| 12501/12501 [00:09<00:00, 1271.07it/s]\n",
      "d:\\Users\\pc\\anaconda\\envs\\pytorch\\lib\\site-packages\\numpy\\lib\\npyio.py:501: VisibleDeprecationWarning: Creating an ndarray from ragged nested sequences (which is a list-or-tuple of lists-or-tuples-or ndarrays with different lengths or shapes) is deprecated. If you meant to do this, you must specify 'dtype=object' when creating the ndarray.\n",
      "  arr = np.asanyarray(arr)\n"
     ]
    },
    {
     "name": "stdout",
     "output_type": "stream",
     "text": [
      "cats: 12476\n",
      "dogs: 12470\n"
     ]
    }
   ],
   "source": [
    "if REBUILD_DATA: # never run this again!\n",
    "    dogsvscats = DogsVSCats()\n",
    "    dogsvscats.make_training_data()"
   ]
  },
  {
   "cell_type": "code",
   "execution_count": 19,
   "metadata": {},
   "outputs": [],
   "source": [
    "training_data = np.load('training_data.npy', allow_pickle=True) # ???"
   ]
  },
  {
   "cell_type": "code",
   "execution_count": 20,
   "metadata": {},
   "outputs": [
    {
     "name": "stdout",
     "output_type": "stream",
     "text": [
      "24946\n"
     ]
    }
   ],
   "source": [
    "print(len(training_data))"
   ]
  },
  {
   "cell_type": "code",
   "execution_count": 21,
   "metadata": {},
   "outputs": [
    {
     "name": "stdout",
     "output_type": "stream",
     "text": [
      "[array([[128, 130, 133, ..., 125, 123, 128],\n",
      "        [125, 132, 136, ..., 121, 131, 130],\n",
      "        [119, 114, 123, ..., 121, 124, 131],\n",
      "        ...,\n",
      "        [113, 117,  67, ..., 119, 123,  94],\n",
      "        [129, 119,  85, ..., 121, 101, 118],\n",
      "        [129,  92,  72, ..., 120,  74,  99]], dtype=uint8) array([0., 1.])]\n"
     ]
    }
   ],
   "source": [
    "print(training_data[0])\n",
    "# label is [0, 1], hence its a dog"
   ]
  },
  {
   "cell_type": "code",
   "execution_count": 22,
   "metadata": {},
   "outputs": [
    {
     "data": {
      "image/png": "[encoded data removed]",
      "text/plain": [
       "<Figure size 640x480 with 1 Axes>"
      ]
     },
     "metadata": {},
     "output_type": "display_data"
    }
   ],
   "source": [
    "# show the picture\n",
    "from matplotlib import pyplot as plt\n",
    "\n",
    "plt.imshow(training_data[0][0])\n",
    "plt.show()"
   ]
  },
  {
   "cell_type": "code",
   "execution_count": 23,
   "metadata": {},
   "outputs": [
    {
     "data": {
      "image/png": "[encoded data removed]",
      "text/plain": [
       "<Figure size 640x480 with 1 Axes>"
      ]
     },
     "metadata": {},
     "output_type": "display_data"
    }
   ],
   "source": [
    "plt.imshow(training_data[0][0], cmap='gray') # matplotlib is not only for image\n",
    "plt.show()"
   ]
  },
  {
   "cell_type": "code",
   "execution_count": 24,
   "metadata": {},
   "outputs": [
    {
     "data": {
      "text/plain": [
       "array([0., 1.])"
      ]
     },
     "execution_count": 24,
     "metadata": {},
     "output_type": "execute_result"
    }
   ],
   "source": [
    "training_data[0][1]"
   ]
  },
  {
   "cell_type": "code",
   "execution_count": null,
   "metadata": {},
   "outputs": [],
   "source": []
  }
 ],
 "metadata": {
  "kernelspec": {
   "display_name": "Python (pytorch)",
   "language": "python",
   "name": "pytorch"
  },
  "language_info": {
   "codemirror_mode": {
    "name": "ipython",
    "version": 3
   },
   "file_extension": ".py",
   "mimetype": "text/x-python",
   "name": "python",
   "nbconvert_exporter": "python",
   "pygments_lexer": "ipython3",
   "version": "3.10.10"
  }
 },
 "nbformat": 4,
 "nbformat_minor": 2
}
